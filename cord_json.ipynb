{
 "cells": [
  {
   "cell_type": "code",
   "execution_count": 40,
   "metadata": {},
   "outputs": [],
   "source": [
    "import json"
   ]
  },
  {
   "cell_type": "code",
   "execution_count": 3,
   "metadata": {},
   "outputs": [],
   "source": [
    "# Create json file object\n",
    "fname = open(\"json/data/0a00a6df208e068e7aa369fb94641434ea0e6070.json\", \"rb\") "
   ]
  },
  {
   "cell_type": "code",
   "execution_count": 4,
   "metadata": {},
   "outputs": [],
   "source": [
    "# Convert json file object to dictionary object\n",
    "json = json.load(fname)"
   ]
  },
  {
   "cell_type": "code",
   "execution_count": 6,
   "metadata": {},
   "outputs": [
    {
     "data": {
      "text/plain": [
       "dict_keys(['paper_id', 'metadata', 'abstract', 'body_text', 'bib_entries', 'ref_entries', 'back_matter'])"
      ]
     },
     "execution_count": 6,
     "metadata": {},
     "output_type": "execute_result"
    }
   ],
   "source": [
    "json.keys()\n",
    "# this tells us everything we have access to in the object\n",
    "# the json article document at it's top level has 7 different accessible keys."
   ]
  },
  {
   "cell_type": "code",
   "execution_count": 15,
   "metadata": {},
   "outputs": [
    {
     "data": {
      "text/plain": [
       "'0a00a6df208e068e7aa369fb94641434ea0e6070'"
      ]
     },
     "execution_count": 15,
     "metadata": {},
     "output_type": "execute_result"
    }
   ],
   "source": [
    "# the paper_id key gives us the unique identifier of the particular article\n",
    "# this is also the filename (with .json)\n",
    "json['paper_id']"
   ]
  },
  {
   "cell_type": "code",
   "execution_count": 17,
   "metadata": {
    "collapsed": true,
    "jupyter": {
     "outputs_hidden": true
    }
   },
   "outputs": [
    {
     "name": "stdout",
     "output_type": "stream",
     "text": [
      "dict_keys(['title', 'authors'])\n",
      "{'title': 'BMC Genomics Novel genome polymorphisms in BCG vaccine strains and impact on efficacy', 'authors': [{'first': 'Andrea', 'middle': ['S'], 'last': 'Leung', 'suffix': '', 'affiliation': {'laboratory': '', 'institution': 'University of Toronto', 'location': {}}, 'email': ''}, {'first': 'Vanessa', 'middle': [], 'last': 'Tran', 'suffix': '', 'affiliation': {'laboratory': '', 'institution': 'University of Toronto', 'location': {}}, 'email': 'vanessa.tran@utoronto.ca'}, {'first': 'Zuowei', 'middle': [], 'last': 'Wu', 'suffix': '', 'affiliation': {'laboratory': '', 'institution': 'Chinese Academy of Sciences', 'location': {'settlement': 'Beijing', 'region': 'PR China'}}, 'email': ''}, {'first': 'Xuping', 'middle': [], 'last': 'Yu', 'suffix': '', 'affiliation': {'laboratory': '', 'institution': 'Zhejiang University', 'location': {'settlement': 'Hangzhou', 'country': 'PR China'}}, 'email': 'xpyu@zju.edu.cn'}, {'first': 'David', 'middle': ['C'], 'last': 'Alexander', 'suffix': '', 'affiliation': {'laboratory': '', 'institution': 'University of Toronto', 'location': {}}, 'email': ''}, {'first': 'George', 'middle': [], 'last': 'Fu Gao', 'suffix': '', 'affiliation': {'laboratory': '', 'institution': 'Chinese Academy of Sciences', 'location': {'settlement': 'Beijing', 'country': 'PR China'}}, 'email': 'georgefugao-gaof@im.ac.cn'}, {'first': 'Baoli', 'middle': [], 'last': 'Zhu', 'suffix': '', 'affiliation': {'laboratory': '', 'institution': 'Chinese Academy of Sciences', 'location': {'settlement': 'Beijing', 'region': 'PR China'}}, 'email': 'zhubaoli@im.ac.cn'}, {'first': 'Jun', 'middle': [], 'last': 'Liu', 'suffix': '', 'affiliation': {'laboratory': '', 'institution': 'University of Toronto', 'location': {}}, 'email': 'jun.liu@utoronto.ca'}]}\n"
     ]
    }
   ],
   "source": [
    "# the metadata key gives us title and author information\n",
    "print(json['metadata'].keys())\n",
    "print(json['metadata'])"
   ]
  },
  {
   "cell_type": "code",
   "execution_count": 20,
   "metadata": {
    "collapsed": true,
    "jupyter": {
     "outputs_hidden": true
    }
   },
   "outputs": [
    {
     "data": {
      "text/plain": [
       "[{'text': 'Bacille Calmette-Guérin (BCG) is an attenuated strain of Mycobacterium bovis currently used as a vaccine against tuberculosis. Global distribution and propagation of BCG has contributed to the in vitro evolution of the vaccine strain and is thought to partially account for the different outcomes of BCG vaccine trials. Previous efforts by several molecular techniques effectively identified large sequence polymorphisms among BCG daughter strains, but lacked the resolution to identify smaller changes. In this study, we have used a NimbleGen tiling array for whole genome comparison of 13 BCG strains. Using this approach, in tandem with DNA resequencing, we have identified six novel large sequence polymorphisms including four deletions and two duplications in specific BCG strains. Moreover, we have uncovered various polymorphisms in the phoP-phoR locus. Importantly, these polymorphisms affect genes encoding established virulence factors including cell wall complex lipids, ESX secretion systems, and the PhoP-PhoR two-component system. Our study demonstrates that major virulence factors are different among BCG strains, which provide molecular mechanisms for important vaccine phenotypes including adverse effect profile, tuberculin reactivity and protective efficacy. These findings have important implications for the development of a new generation of vaccines.',\n",
       "  'cite_spans': [],\n",
       "  'ref_spans': [],\n",
       "  'section': 'Abstract'}]"
      ]
     },
     "execution_count": 20,
     "metadata": {},
     "output_type": "execute_result"
    }
   ],
   "source": [
    "# the abstract key gives you access to the abstract text and any citations\n",
    "# like the body_text, this is a list of dictionaries, even if the length of the list is often only 1.\n",
    "json['abstract'][0]   # however, we should not assume that an abstract will only ever \n",
    "                      # be a single paragraph, we should account for the possibility of many"
   ]
  },
  {
   "cell_type": "code",
   "execution_count": 23,
   "metadata": {
    "collapsed": true,
    "jupyter": {
     "outputs_hidden": true
    }
   },
   "outputs": [
    {
     "data": {
      "text/plain": [
       "{'text': 'Bacille Calmette-Guérin (BCG) is an attenuated strain of Mycobacterium bovis and is the only available vaccine against tuberculosis (TB). Since 1974, BCG vaccination has been included in the World Health Organization (WHO) Expanded Program on Immunization. It is estimated that more than 3 billion individuals have been immunized with BCG and over 100 million doses of BCG are administered annually. Multiple studies have confirmed that BCG is generally safe and can protect children against disseminated disease, including tuberculosis meningitis [1, 2] . BCG also provides cross-protection against leprosy [3] . However, the success of BCG against pulmonary TB in adults is still debated, since randomized clini-cal trials have reported protection efficacy ranging from 0-80% [4, 5] . Several hypotheses for the variation in observed efficacy have been proposed [6] [7] [8] [9] .',\n",
       " 'cite_spans': [{'start': 548, 'end': 551, 'text': '[1,', 'ref_id': 'BIBREF0'},\n",
       "  {'start': 552, 'end': 554, 'text': '2]', 'ref_id': 'BIBREF1'},\n",
       "  {'start': 608, 'end': 611, 'text': '[3]', 'ref_id': 'BIBREF2'},\n",
       "  {'start': 778, 'end': 781, 'text': '[4,', 'ref_id': 'BIBREF4'},\n",
       "  {'start': 782, 'end': 784, 'text': '5]', 'ref_id': 'BIBREF5'},\n",
       "  {'start': 864, 'end': 867, 'text': '[6]', 'ref_id': 'BIBREF6'},\n",
       "  {'start': 868, 'end': 871, 'text': '[7]', 'ref_id': 'BIBREF7'},\n",
       "  {'start': 872, 'end': 875, 'text': '[8]', 'ref_id': 'BIBREF8'},\n",
       "  {'start': 876, 'end': 879, 'text': '[9]', 'ref_id': 'BIBREF9'}],\n",
       " 'ref_spans': [],\n",
       " 'section': 'Background'}"
      ]
     },
     "execution_count": 23,
     "metadata": {},
     "output_type": "execute_result"
    }
   ],
   "source": [
    "# the body_text key gives the same text/citation/reference/section information as the \n",
    "# json['body_text']\n",
    "json['body_text'][0] # grab individual paragraphs from within the \"body text\""
   ]
  },
  {
   "cell_type": "code",
   "execution_count": 27,
   "metadata": {},
   "outputs": [
    {
     "data": {
      "text/plain": [
       "{'ref_id': 'b0',\n",
       " 'title': 'The efficacy of bacillus Calmette-Guerin vaccination of newborns and infants in the prevention of tuberculosis: meta-analyses of the published literature',\n",
       " 'authors': [{'first': 'G', 'middle': ['A'], 'last': 'Colditz', 'suffix': ''},\n",
       "  {'first': 'C', 'middle': ['S'], 'last': 'Berkey', 'suffix': ''},\n",
       "  {'first': 'F', 'middle': [], 'last': 'Mosteller', 'suffix': ''},\n",
       "  {'first': 'T', 'middle': ['F'], 'last': 'Brewer', 'suffix': ''},\n",
       "  {'first': 'M', 'middle': ['E'], 'last': 'Wilson', 'suffix': ''},\n",
       "  {'first': 'E', 'middle': [], 'last': 'Burdick', 'suffix': ''},\n",
       "  {'first': 'H', 'middle': ['V'], 'last': 'Fineberg', 'suffix': ''}],\n",
       " 'year': 1995,\n",
       " 'venue': 'Pediatrics',\n",
       " 'volume': '96',\n",
       " 'issn': '',\n",
       " 'pages': '29--35',\n",
       " 'other_ids': {}}"
      ]
     },
     "execution_count": 27,
     "metadata": {},
     "output_type": "execute_result"
    }
   ],
   "source": [
    "# the bib_entries key gives information about the bibliography. Each item within is another dictionary\n",
    "# json[bib_entries]   # access the entire dict object (more dictionaries)\n",
    "json['bib_entries']['BIBREF0']     # each bibliographical entry is it's own dictionary\n",
    "# for each object you can access ['ref_id', 'title', 'authors', 'year', 'venue', 'volume', 'issn', 'pages', 'other_ids']"
   ]
  },
  {
   "cell_type": "code",
   "execution_count": 29,
   "metadata": {},
   "outputs": [
    {
     "data": {
      "text/plain": [
       "[{'first': 'G', 'middle': ['A'], 'last': 'Colditz', 'suffix': ''},\n",
       " {'first': 'C', 'middle': ['S'], 'last': 'Berkey', 'suffix': ''},\n",
       " {'first': 'F', 'middle': [], 'last': 'Mosteller', 'suffix': ''},\n",
       " {'first': 'T', 'middle': ['F'], 'last': 'Brewer', 'suffix': ''},\n",
       " {'first': 'M', 'middle': ['E'], 'last': 'Wilson', 'suffix': ''},\n",
       " {'first': 'E', 'middle': [], 'last': 'Burdick', 'suffix': ''},\n",
       " {'first': 'H', 'middle': ['V'], 'last': 'Fineberg', 'suffix': ''}]"
      ]
     },
     "execution_count": 29,
     "metadata": {},
     "output_type": "execute_result"
    }
   ],
   "source": [
    "# the authors key within each bib entry is a list of dictionaries of names.\n",
    "\n",
    "json['bib_entries']['BIBREF0']['authors']"
   ]
  },
  {
   "cell_type": "code",
   "execution_count": 32,
   "metadata": {},
   "outputs": [
    {
     "data": {
      "text/plain": [
       "'A'"
      ]
     },
     "execution_count": 32,
     "metadata": {},
     "output_type": "execute_result"
    }
   ],
   "source": [
    "json['bib_entries']['BIBREF0']['authors'][0]['middle'][0]\n",
    "# Note the recursion: The letter 'A' here is the first member of a LIST (of middle initials), \n",
    "# inside a DICTIONARY (of name parts), inside a LIST (of authors), inside a DICTIONARY \n",
    "# (constituting a single bibliographical reference), inside a larger DICTIONARY (of all the \n",
    "# bibliographical references), inside a final DICTIONARY (json) at the very top level."
   ]
  },
  {
   "cell_type": "code",
   "execution_count": 38,
   "metadata": {},
   "outputs": [
    {
     "name": "stdout",
     "output_type": "stream",
     "text": [
      "dict_keys(['FIGREF0', 'TABREF0', 'TABREF2', 'TABREF3', 'TABREF4'])\n",
      "{'text': 'IS6110 insertion in the phoP promoter in BCG-Russia, -Moreau, and -Japan. (A) Schematic representation of the phoP-phoR locus with IS6110 inserted in an inverse orientation 18 bp upstream from phoP start codon. (B) Nucleotide sequence surrounding IS6110. The IS6110 sequence is boxed. The GAA direct repeats flanking the IS6110 insertion site is underlined and in boldface. The ATG start codons of phoP and phoR are indicated by arrows and in boldface.', 'latex': None, 'type': 'figure'}\n",
      "{'text': 'Novel deletions and duplications determined in current study.', 'latex': None, 'type': 'table', 'html': '<html><body><table><tr><td>BCG strains </td><td>Polymorphisms </td><td>Start </td><td>End </td><td>Size (bp) </td><td>Genes affected\\n</td></tr><tr><td>Moreau </td><td>Deletion </td><td>3244503 </td><td>3245478 </td><td>975 </td><td>fadD26, ppsA\\n</td></tr><tr><td>\\xa0</td><td>\\xa0</td><td>4370517 </td><td>4371645 </td><td>1128 </td><td>Rv3887c\\n</td></tr><tr><td>Birkhaug/Sweden </td><td>Deletion </td><td>1158377 </td><td>1158622 </td><td>245 </td><td>trcR\\n</td></tr><tr><td>\\xa0</td><td>\\xa0</td><td>3834822 </td><td>3834932 </td><td>110 </td><td>whiB3\\n</td></tr><tr><td>Tice </td><td>Duplication </td><td>2017525 </td><td>2039587 </td><td>22062 </td><td>Rv1782-Rv1800\\n</td></tr><tr><td>Birkhaug </td><td>Duplication </td><td>1\\n</td><td>20813\\n</td><td>30201 </td><td>Rv3913-Rv0017c\\n</td></tr><tr><td>\\xa0</td><td>\\xa0</td><td>\\xa0</td><td>\\xa0</td><td>4402007\\n</td><td>4411395\\n</td></tr></table></body></html>'}\n"
     ]
    }
   ],
   "source": [
    "# It's hard to say conclusively without the paper in front of mee, but I imagine this \n",
    "# is the section which details illustrations and figures from the article. I appears to\n",
    "# be structured similar to the bib_entries with each figure existing as a dictionary.\n",
    "# Seems to be of the format, figures first, then tables... alphabetical?\n",
    "print(json['ref_entries'].keys())\n",
    "print(json['ref_entries']['FIGREF0'])\n",
    "print(json['ref_entries']['TABREF0'])\n",
    "# within each entry there appears to be ['text', 'latex', 'type', 'html']"
   ]
  },
  {
   "cell_type": "code",
   "execution_count": 39,
   "metadata": {},
   "outputs": [
    {
     "data": {
      "text/plain": [
       "[{'text': 'This work was supported by an award from the National Natural Science Foundation of China (NSFC) (to JL), and research grants from Canadian Institutes of Health Research (CIHR) (MOP-15107 and MOP-82772 to JL), and a grant (Z0005190043521) from Beijing Municipal Science And Technology Commission to (BZ).',\n",
       "  'cite_spans': [],\n",
       "  'ref_spans': [],\n",
       "  'section': 'Acknowledgements'}]"
      ]
     },
     "execution_count": 39,
     "metadata": {},
     "output_type": "execute_result"
    }
   ],
   "source": [
    "# Again, in the same format as both the abstract and body_text, we have a list of dictionaries\n",
    "# each containing text, cite and ref info, and section title. Like the abstract, the list of objects is length 1.\n",
    "json['back_matter']"
   ]
  },
  {
   "cell_type": "code",
   "execution_count": null,
   "metadata": {},
   "outputs": [],
   "source": [
    "# I hope this helps demonstrate the ways of accessing the different data within the CORD-19 dataset.\n",
    "# Next is needed a function to iterate over the text of each article, and search it for keywords (as a start)."
   ]
  }
 ],
 "metadata": {
  "kernelspec": {
   "display_name": "Python 3",
   "language": "python",
   "name": "python3"
  },
  "language_info": {
   "codemirror_mode": {
    "name": "ipython",
    "version": 3
   },
   "file_extension": ".py",
   "mimetype": "text/x-python",
   "name": "python",
   "nbconvert_exporter": "python",
   "pygments_lexer": "ipython3",
   "version": "3.7.6"
  }
 },
 "nbformat": 4,
 "nbformat_minor": 4
}
